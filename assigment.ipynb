{
 "cells": [
  {
   "cell_type": "raw",
   "id": "2d558897-1b71-49db-a4b4-2d22ced230bb",
   "metadata": {},
   "source": [
    "#1 Explain the key features of python that make it a popular choice for programming\n",
    " Ans  Easy to learn \n",
    "      No of libararies\n",
    "      connects to multiples tools\n",
    "      Huge active community"
   ]
  },
  {
   "cell_type": "raw",
   "id": "ff4e923a-2d24-447d-ac4e-c1c1704579e4",
   "metadata": {},
   "source": [
    "#2 Describe the role of predefined keywords in python and provide example of how they are used in a program\n",
    "Ans  Keywords are some predefined and resvered words in python that have special meanings.keywords are used to define the syntax of the coding. The        keyword cannot be used as an identifier, function or variable . All the keywords in python are written in lowercase except True and False."
   ]
  },
  {
   "cell_type": "raw",
   "id": "ab558c53-85b6-4a59-a277-ffec98b8da10",
   "metadata": {},
   "source": [
    "print (\"example of True,False,and\")"
   ]
  },
  {
   "cell_type": "code",
   "execution_count": 2,
   "id": "76924355-9bf4-43d5-9f73-bfd42af05837",
   "metadata": {},
   "outputs": [
    {
     "name": "stdout",
     "output_type": "stream",
     "text": [
      "True\n"
     ]
    }
   ],
   "source": [
    "print ( True and True )"
   ]
  },
  {
   "cell_type": "raw",
   "id": "bec49d81-d623-4157-ae59-68e51501b73c",
   "metadata": {},
   "source": [
    "#3 compare and contrast mutable and immutable objects in python with examples\n",
    "Ans  MUTABLE - Objects whose state or value can be changed after they are created called as mutable object.\n",
    "               list is type of mutable object and it's support item assignment."
   ]
  },
  {
   "cell_type": "code",
   "execution_count": 17,
   "id": "61d9709b-7027-4172-be29-7bb8a618e619",
   "metadata": {},
   "outputs": [
    {
     "data": {
      "text/plain": [
       "'pwskills'"
      ]
     },
     "execution_count": 17,
     "metadata": {},
     "output_type": "execute_result"
    }
   ],
   "source": [
    "list_cont = [1,2,3,4.3,True,(3+5j),\"pwskills\"]\n",
    "list_cont[6]"
   ]
  },
  {
   "cell_type": "code",
   "execution_count": 18,
   "id": "c7150b75-6fde-4dfc-a8e4-66618f971a4b",
   "metadata": {},
   "outputs": [
    {
     "data": {
      "text/plain": [
       "[1, 2, 3, 4.3, True, (3+5j), 'suhani']"
      ]
     },
     "execution_count": 18,
     "metadata": {},
     "output_type": "execute_result"
    }
   ],
   "source": [
    "#Mutability\n",
    "list_cont[6] = \"suhani\"\n",
    "list_cont"
   ]
  },
  {
   "cell_type": "raw",
   "id": "54008136-6a96-4167-bcad-451c0587b50f",
   "metadata": {},
   "source": [
    "IMMUTABLE - Object whose state or value can not changed after they are created are called as immutable object.\n",
    "           string is a type of immutable object and doesn't support item assignment."
   ]
  },
  {
   "cell_type": "code",
   "execution_count": 24,
   "id": "3781eddf-1dbb-4d4d-b746-ae85d17d785d",
   "metadata": {},
   "outputs": [
    {
     "ename": "NameError",
     "evalue": "name 'I' is not defined",
     "output_type": "error",
     "traceback": [
      "\u001b[0;31m---------------------------------------------------------------------------\u001b[0m",
      "\u001b[0;31mNameError\u001b[0m                                 Traceback (most recent call last)",
      "Cell \u001b[0;32mIn[24], line 3\u001b[0m\n\u001b[1;32m      1\u001b[0m b \u001b[38;5;241m=\u001b[39m\u001b[38;5;124m\"\u001b[39m\u001b[38;5;124mpwskills\u001b[39m\u001b[38;5;124m\"\u001b[39m\n\u001b[1;32m      2\u001b[0m b\n\u001b[0;32m----> 3\u001b[0m list_cont[\u001b[38;5;241m1\u001b[39m]\u001b[38;5;241m=\u001b[39m \u001b[43mI\u001b[49m\n",
      "\u001b[0;31mNameError\u001b[0m: name 'I' is not defined"
     ]
    }
   ],
   "source": [
    "b =\"pwskills\"\n",
    "b\n",
    "list_cont[1]= I"
   ]
  },
  {
   "cell_type": "raw",
   "id": "890cab55-dccb-4ab9-975a-64e516b70e76",
   "metadata": {},
   "source": [
    "#4 Discuss the different types of operators in python and provide examples of how the are used\n",
    "Ans special symbols that are used to perform operations on values or variable"
   ]
  },
  {
   "cell_type": "raw",
   "id": "f46f7883-be10-4a48-870c-84ad35b30bc2",
   "metadata": {},
   "source": [
    "1.Arithmatic operator- perform mathematical calculation in programming.\n",
    "  Addition(+),subtraction(-),multiplication(*),division(/),modulus(%),exponentiation(**)"
   ]
  },
  {
   "cell_type": "code",
   "execution_count": 25,
   "id": "9769e796-d44b-40ab-ab0b-ffe35582c1df",
   "metadata": {},
   "outputs": [
    {
     "name": "stdout",
     "output_type": "stream",
     "text": [
      "5\n"
     ]
    }
   ],
   "source": [
    "a = 2\n",
    "b = 3\n",
    "result = a+b\n",
    "print(result)"
   ]
  },
  {
   "cell_type": "raw",
   "id": "80cc78c6-132a-4c95-a6a1-a5a4f3c2b250",
   "metadata": {},
   "source": [
    "2. comparision operator - used to compare the value of two operands\n",
    "   Equal to('=='),not equal to('!='),greater than(>),less than(<),greater than or equal(>=),less than or equal(<=)"
   ]
  },
  {
   "cell_type": "code",
   "execution_count": 26,
   "id": "40cb4b7c-b378-42a9-bf78-9daf857ca784",
   "metadata": {},
   "outputs": [
    {
     "name": "stdout",
     "output_type": "stream",
     "text": [
      "True\n",
      "False\n"
     ]
    }
   ],
   "source": [
    "a = 9\n",
    "b = 5\n",
    "c = 9\n",
    "print(a==c)\n",
    "print(a==b)"
   ]
  },
  {
   "cell_type": "raw",
   "id": "48e9adcd-70d2-48d7-b8be-975b17feb83f",
   "metadata": {},
   "source": [
    "3. Logical operator - used to combine multiple conditional statement\n",
    "   AND,OR,NOT"
   ]
  },
  {
   "cell_type": "code",
   "execution_count": 27,
   "id": "fcfdcef2-3759-4fef-841d-62cbb2d6723f",
   "metadata": {},
   "outputs": [
    {
     "name": "stdout",
     "output_type": "stream",
     "text": [
      "at least one number has boolean value as false\n"
     ]
    }
   ],
   "source": [
    "a = 10\n",
    "b = 12\n",
    "c = 0\n",
    "if a and b and c:\n",
    "    print(\"all the numbers have boolean value as true\")\n",
    "else:\n",
    "    print(\"at least one number has boolean value as false\")"
   ]
  },
  {
   "cell_type": "raw",
   "id": "b6f6b156-f6bb-4ba7-811e-f1798b7102a7",
   "metadata": {},
   "source": [
    "4. Bitwise operator - used to perform operations on values and variables.\n",
    "   AND($),OR(|),NOT(-),XOR(^),LEFT SHIFT(<<),RIGHT SHIFT(>>)"
   ]
  },
  {
   "cell_type": "code",
   "execution_count": 30,
   "id": "69755fb5-86a0-4dab-aa59-d9baf05b1210",
   "metadata": {},
   "outputs": [
    {
     "name": "stdout",
     "output_type": "stream",
     "text": [
      "a|b = 14\n"
     ]
    }
   ],
   "source": [
    "a = 10\n",
    "b = 4\n",
    "print(\"a|b =\",a|b)"
   ]
  },
  {
   "cell_type": "raw",
   "id": "7e74112e-5385-4968-847d-a09cecbfc050",
   "metadata": {},
   "source": [
    "5. Assignment operator -special symbols that carry out arithmetic,logical and bitwise computation.\n",
    "   Assignment(=),addition(+=),subtraction(-=),multiplication(*=),division(/=)"
   ]
  },
  {
   "cell_type": "code",
   "execution_count": 31,
   "id": "60e73cf0-7e8a-431d-988e-4bdd1bb42973",
   "metadata": {},
   "outputs": [
    {
     "name": "stdout",
     "output_type": "stream",
     "text": [
      "8\n"
     ]
    }
   ],
   "source": [
    "a = 3\n",
    "b = 5\n",
    "a += b\n",
    "print(a)"
   ]
  },
  {
   "cell_type": "raw",
   "id": "dce507fc-0c38-4562-b09b-393e7778e974",
   "metadata": {},
   "source": [
    "6. Membership operator - used to test whether a value or variable is a member of a sequence such as strings,list or tuple\n",
    "  in, not in"
   ]
  },
  {
   "cell_type": "raw",
   "id": "8414a442-0f81-4a28-9156-66e7b8bbb834",
   "metadata": {},
   "source": [
    "7. Identity - used to determine whether two variables refers to the same object in memory\n",
    "   is, not is"
   ]
  },
  {
   "cell_type": "raw",
   "id": "aee851e0-437c-4c47-a5cd-37e63150e58d",
   "metadata": {},
   "source": [
    "#5. Explain the concept of type casting in python with example.\n",
    "Ans  The process of changing data type of a value."
   ]
  },
  {
   "cell_type": "code",
   "execution_count": 2,
   "id": "2061281d-34b4-45d9-b522-d9a298f37688",
   "metadata": {},
   "outputs": [
    {
     "ename": "TypeError",
     "evalue": "can only concatenate str (not \"int\") to str",
     "output_type": "error",
     "traceback": [
      "\u001b[0;31m---------------------------------------------------------------------------\u001b[0m",
      "\u001b[0;31mTypeError\u001b[0m                                 Traceback (most recent call last)",
      "Cell \u001b[0;32mIn[2], line 3\u001b[0m\n\u001b[1;32m      1\u001b[0m a \u001b[38;5;241m=\u001b[39m \u001b[38;5;124m\"\u001b[39m\u001b[38;5;124m2\u001b[39m\u001b[38;5;124m\"\u001b[39m\n\u001b[1;32m      2\u001b[0m b \u001b[38;5;241m=\u001b[39m  \u001b[38;5;241m3\u001b[39m\n\u001b[0;32m----> 3\u001b[0m \u001b[43ma\u001b[49m\u001b[43m \u001b[49m\u001b[38;5;241;43m+\u001b[39;49m\u001b[43m \u001b[49m\u001b[43mb\u001b[49m\n\u001b[1;32m      4\u001b[0m \u001b[38;5;66;03m#error\u001b[39;00m\n\u001b[1;32m      5\u001b[0m \u001b[38;5;66;03m#mismatch between the data\u001b[39;00m\n",
      "\u001b[0;31mTypeError\u001b[0m: can only concatenate str (not \"int\") to str"
     ]
    }
   ],
   "source": [
    "a = \"2\"\n",
    "b =  3\n",
    "a + b\n",
    "#error\n",
    "#mismatch between the data"
   ]
  },
  {
   "cell_type": "code",
   "execution_count": 3,
   "id": "1c1e1e89-efe6-480c-b647-af720250ccd0",
   "metadata": {},
   "outputs": [
    {
     "name": "stdout",
     "output_type": "stream",
     "text": [
      "<class 'str'>\n",
      "<class 'int'>\n"
     ]
    }
   ],
   "source": [
    "#string to integer\n",
    "a = \"2\"\n",
    "print(type(a))\n",
    "print(type(int(a)))"
   ]
  },
  {
   "cell_type": "code",
   "execution_count": 4,
   "id": "9825fa86-1f62-48f1-bff5-afa7f86be97c",
   "metadata": {},
   "outputs": [
    {
     "data": {
      "text/plain": [
       "5"
      ]
     },
     "execution_count": 4,
     "metadata": {},
     "output_type": "execute_result"
    }
   ],
   "source": [
    "a = \"2\"\n",
    "b =  3\n",
    "int(a) + b\n"
   ]
  },
  {
   "cell_type": "raw",
   "id": "f2bcc638-3dce-40c8-a7c4-d7103a88d598",
   "metadata": {},
   "source": [
    "#6. How dose conditional statements works in python give example\n",
    "Ans  Those statements provide s chocice for the control flow based on a condition.It means that the control flow of the python program will be decided on the outcome of the condition.\n",
    "#if\n",
    "#if-else\n",
    "#if-elif-else\n",
    "#nested-if-else"
   ]
  },
  {
   "cell_type": "code",
   "execution_count": 1,
   "id": "28422889-d729-4069-b7ca-444682d033d7",
   "metadata": {},
   "outputs": [
    {
     "name": "stdout",
     "output_type": "stream",
     "text": [
      "10 is greater than 5\n"
     ]
    }
   ],
   "source": [
    "#example (if statement)\n",
    "if 10>5:\n",
    "    print(\"10 is greater than 5\")"
   ]
  },
  {
   "cell_type": "code",
   "execution_count": 2,
   "id": "06fa4c6a-0647-4bc4-a95b-fe5badfdac59",
   "metadata": {},
   "outputs": [
    {
     "name": "stdout",
     "output_type": "stream",
     "text": [
      "no\n"
     ]
    }
   ],
   "source": [
    "#exmple ( if else statement)\n",
    "x = 10\n",
    "if x == 4:\n",
    "    print(\"yes\")\n",
    "else:\n",
    "    print(\"no\")"
   ]
  },
  {
   "cell_type": "code",
   "execution_count": 3,
   "id": "b193cfab-9291-4cbd-9c3d-dc3b35b761a7",
   "metadata": {},
   "outputs": [
    {
     "name": "stdout",
     "output_type": "stream",
     "text": [
      "Food is Apple\n"
     ]
    }
   ],
   "source": [
    "#exmple ( if-elif-else)\n",
    "Food = \"Apple\"\n",
    "if Food == \"cake\":\n",
    "    print(\"Food is cake\")\n",
    "elif Food == \"pizza\":\n",
    "    print(\"Food is pizza\")\n",
    "elif Food == \"Apple\":\n",
    "    print(\"Food is Apple\")\n",
    "else:\n",
    "    print(\"no Food\")"
   ]
  },
  {
   "cell_type": "code",
   "execution_count": 7,
   "id": "13491af7-97ec-45bd-be1e-c5fcc1576536",
   "metadata": {},
   "outputs": [
    {
     "ename": "SyntaxError",
     "evalue": "invalid syntax (3020339296.py, line 8)",
     "output_type": "error",
     "traceback": [
      "\u001b[0;36m  Cell \u001b[0;32mIn[7], line 8\u001b[0;36m\u001b[0m\n\u001b[0;31m    else:\u001b[0m\n\u001b[0m    ^\u001b[0m\n\u001b[0;31mSyntaxError\u001b[0m\u001b[0;31m:\u001b[0m invalid syntax\n"
     ]
    }
   ],
   "source": [
    "#exmple ( Nested if else)\n",
    "letter = \"A\"\n",
    "if letter == \"B\":\n",
    "    print(\"letter is B\")\n",
    "else:\n",
    "    if letter == \"c\":\n",
    "        print(\"letter is c\")\n",
    "else:\n",
    "    if letter == \"A\":\n",
    "        print(\"letter is A\")\n",
    "        \n",
    "\n",
    "    "
   ]
  },
  {
   "cell_type": "raw",
   "id": "235f892d-3489-41cd-9198-14e1700211e4",
   "metadata": {},
   "source": [
    "#7. Describe the different types of loops in python and their use cases with example\n",
    "Ans It allows you to execute a block of code repeatdly.\n",
    "    There are two type of loop\n",
    "    1.while loop\n",
    "    2.for loop"
   ]
  },
  {
   "cell_type": "code",
   "execution_count": 8,
   "id": "1da3d799-c868-4b8c-a08b-495d84395e58",
   "metadata": {},
   "outputs": [
    {
     "name": "stdout",
     "output_type": "stream",
     "text": [
      "1\n",
      "2\n",
      "3\n",
      "4\n",
      "5\n",
      "6\n"
     ]
    }
   ],
   "source": [
    "#while - repeatedly executed a block of code until a condition is met\n",
    "n = 7\n",
    "i = 1\n",
    "while i < n:\n",
    "    print(i)\n",
    "    i = i + 1"
   ]
  },
  {
   "cell_type": "code",
   "execution_count": 9,
   "id": "54aabd17-0473-4492-967e-753781b1b4a2",
   "metadata": {},
   "outputs": [
    {
     "name": "stdout",
     "output_type": "stream",
     "text": [
      "1\n",
      "2\n",
      "3\n",
      "4\n",
      "5\n",
      "6\n",
      "This will be exeuted without any break\n"
     ]
    }
   ],
   "source": [
    "#while else statement\n",
    "n = 7\n",
    "i = 1\n",
    "while i < n:\n",
    "    print(i)\n",
    "    i = i + 1\n",
    "else:\n",
    "    print(\"This will be exeuted without any break\")"
   ]
  },
  {
   "cell_type": "code",
   "execution_count": 20,
   "id": "7e6509b7-84bb-4a07-b9fa-8d9f73dea07c",
   "metadata": {},
   "outputs": [
    {
     "name": "stdout",
     "output_type": "stream",
     "text": [
      "1\n",
      "2\n"
     ]
    }
   ],
   "source": [
    "#break statement\n",
    "n = 7\n",
    "i = 1\n",
    "while i < n:\n",
    "    print(i)\n",
    "    i = i + 1\n",
    "    if i == 3:\n",
    "        break\n",
    "else:\n",
    "    print(\"This will be exeuted without any break\")"
   ]
  },
  {
   "cell_type": "code",
   "execution_count": 28,
   "id": "ce4ac187-87d4-41bf-a238-f4e9bccb061d",
   "metadata": {},
   "outputs": [
    {
     "name": "stdout",
     "output_type": "stream",
     "text": [
      "2\n",
      "4\n",
      "5\n",
      "6\n",
      "7\n",
      "This will be exeuted without any break\n"
     ]
    }
   ],
   "source": [
    "#break statement\n",
    "n = 7\n",
    "i = 1\n",
    "while i < n:\n",
    "    i = i + 1\n",
    "    if i == 3:\n",
    "        continue\n",
    "    print(i)\n",
    "else:\n",
    "    print(\"This will be exeuted without any break\")"
   ]
  },
  {
   "cell_type": "raw",
   "id": "56b577db-85ba-4ed1-a3a9-4f07ee2be6ba",
   "metadata": {},
   "source": [
    "#for loops - iterate over a sequence of element"
   ]
  },
  {
   "cell_type": "code",
   "execution_count": 19,
   "id": "4cd5a0f2-4635-4a69-ab09-36bb66240822",
   "metadata": {},
   "outputs": [
    {
     "name": "stdout",
     "output_type": "stream",
     "text": [
      "p\n",
      "w\n",
      "s\n",
      "k\n",
      "i\n",
      "l\n",
      "l\n",
      "s\n"
     ]
    }
   ],
   "source": [
    "for i in \"pwskills\":\n",
    "    print(i)"
   ]
  },
  {
   "cell_type": "code",
   "execution_count": 25,
   "id": "3545af77-41d8-426f-a122-060d13be9ca6",
   "metadata": {},
   "outputs": [
    {
     "name": "stdout",
     "output_type": "stream",
     "text": [
      "0\n",
      "1\n",
      "2\n"
     ]
    }
   ],
   "source": [
    "#break statement\n",
    "for i in range(10):\n",
    "    print(i)\n",
    "    if i == 2:\n",
    "        break"
   ]
  },
  {
   "cell_type": "code",
   "execution_count": 26,
   "id": "51fcf828-3cbc-4193-8566-af36455aa9c2",
   "metadata": {},
   "outputs": [
    {
     "name": "stdout",
     "output_type": "stream",
     "text": [
      "0\n",
      "1\n",
      "3\n",
      "4\n",
      "5\n",
      "6\n",
      "7\n",
      "8\n",
      "9\n"
     ]
    }
   ],
   "source": [
    "#continue statement\n",
    "for i in range(10):\n",
    "    if i == 2:\n",
    "        continue\n",
    "    print(i)"
   ]
  },
  {
   "cell_type": "code",
   "execution_count": null,
   "id": "249e6292-38c2-4167-9595-cf4ead21e072",
   "metadata": {},
   "outputs": [],
   "source": []
  }
 ],
 "metadata": {
  "kernelspec": {
   "display_name": "Python 3 (ipykernel)",
   "language": "python",
   "name": "python3"
  },
  "language_info": {
   "codemirror_mode": {
    "name": "ipython",
    "version": 3
   },
   "file_extension": ".py",
   "mimetype": "text/x-python",
   "name": "python",
   "nbconvert_exporter": "python",
   "pygments_lexer": "ipython3",
   "version": "3.10.8"
  },
  "toc-autonumbering": true
 },
 "nbformat": 4,
 "nbformat_minor": 5
}
